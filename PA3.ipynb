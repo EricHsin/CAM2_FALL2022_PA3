{
 "cells": [
  {
   "cell_type": "code",
   "execution_count": null,
   "metadata": {},
   "outputs": [],
   "source": [
    "import torch\n",
    "import torch.nn as nn\n",
    "import torch.nn.functional as F\n",
    "from torch.optim import SGD\n",
    "\n",
    "import matplotlib.pyplot as plt\n",
    "import seaborn as sns\n",
    "\n",
    "### Create the NN_train() model\n",
    "###\n",
    "\n",
    "\n",
    "###\n",
    "\n",
    "\n",
    "\n",
    "inputs = torch.tensor([0.0, 0.5, 1.0, 1.5, 2])\n",
    "labels = torch.tensor([0.0, 1.0, 2.0, 1.0, 0.0])\n",
    "loss_values = []\n",
    "epoch_values = []\n",
    "model = NN_train()\n",
    "epochs = 1000\n",
    "optimizer = SGD(params=model.parameters(), lr=0.01)\n",
    "\n",
    "### Start optimizing\n",
    "###\n",
    "### for epoch in range(epochs):\n",
    "###     total_loss = 0\n",
    "### \n",
    "###\n",
    "###     print(\"Step: \" + str(epoch) + \" Loss: \" + str(float(total_loss)) + \"\\n\")\n",
    "###     loss_values.append(float(total_loss))\n",
    "###     epoch_values.append(epoch)\n",
    "\n",
    "    \n",
    "\n",
    "plt.plot(epoch_values, loss_values, label=\"Train loss\")\n",
    "plt.title(\"Training loss curves\")\n",
    "plt.ylabel(\"Loss\")\n",
    "plt.xlabel(\"Epochs\")\n",
    "plt.legend()\n",
    "plt.show()\n",
    "plt.cla()\n",
    "\n",
    "\n",
    "\n",
    "input_doses = torch.linspace(start=0, end=2, steps=11)\n",
    "output_values = model(input_doses)\n",
    "\n",
    "sns.set(style='whitegrid')\n",
    "\n",
    "sns.lineplot(x=input_doses,\n",
    "             y=output_values.detach(),\n",
    "             color='green',\n",
    "             linewidth=2.5)"
   ]
  }
 ],
 "metadata": {
  "kernelspec": {
   "display_name": "Python 3.8.5 ('base')",
   "language": "python",
   "name": "python3"
  },
  "language_info": {
   "name": "python",
   "version": "3.8.5"
  },
  "orig_nbformat": 4,
  "vscode": {
   "interpreter": {
    "hash": "17bca6bb050b2b99184c873e0a5a91407d23c4ee5a7ec7552ddd034d1093c4f0"
   }
  }
 },
 "nbformat": 4,
 "nbformat_minor": 2
}
